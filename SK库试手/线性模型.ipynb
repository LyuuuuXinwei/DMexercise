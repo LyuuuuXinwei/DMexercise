{
 "cells": [
  {
   "cell_type": "code",
   "execution_count": 5,
   "metadata": {},
   "outputs": [
    {
     "name": "stderr",
     "output_type": "stream",
     "text": [
      "c:\\users\\yechao\\appdata\\local\\programs\\python\\python35\\lib\\site-packages\\sklearn\\cross_validation.py:41: DeprecationWarning: This module was deprecated in version 0.18 in favor of the model_selection module into which all the refactored classes and functions are moved. Also note that the interface of the new CV iterators are different from that of this module. This module will be removed in 0.20.\n",
      "  \"This module will be removed in 0.20.\", DeprecationWarning)\n"
     ]
    }
   ],
   "source": [
    "import numpy as np\n",
    "import pandas as pd\n",
    "from sklearn.datasets import load_boston\n",
    "from sklearn.cross_validation import train_test_split\n",
    "from sklearn.linear_model import Ridge\n",
    "\n",
    "n=14\n",
    "boston = load_boston() \n",
    "x = boston[\"data\"]  \n",
    "y = boston[\"target\"] \n",
    "x_train,x_test,y_train,y_test=train_test_split(x,y,random_state=n)"
   ]
  },
  {
   "cell_type": "code",
   "execution_count": 6,
   "metadata": {},
   "outputs": [
    {
     "data": {
      "text/plain": [
       "Ridge(alpha=10, copy_X=True, fit_intercept=True, max_iter=None,\n",
       "   normalize=False, random_state=None, solver='auto', tol=0.001)"
      ]
     },
     "execution_count": 6,
     "metadata": {},
     "output_type": "execute_result"
    }
   ],
   "source": [
    "ridge = Ridge(alpha=10)  \n",
    "ridge.fit(x_train,y_train)"
   ]
  },
  {
   "cell_type": "code",
   "execution_count": 7,
   "metadata": {},
   "outputs": [
    {
     "data": {
      "text/plain": [
       "array([ -8.86257006e-02,   5.14080783e-02,  -4.02609472e-02,\n",
       "         1.63243459e+00,  -1.72102573e+00,   4.05224571e+00,\n",
       "        -1.02753608e-03,  -1.12306415e+00,   2.98090749e-01,\n",
       "        -1.52873790e-02,  -8.04084596e-01,   6.54165312e-03,\n",
       "        -6.03621778e-01])"
      ]
     },
     "execution_count": 7,
     "metadata": {},
     "output_type": "execute_result"
    }
   ],
   "source": [
    "ridge.coef_"
   ]
  },
  {
   "cell_type": "code",
   "execution_count": 8,
   "metadata": {},
   "outputs": [
    {
     "data": {
      "text/plain": [
       "25.927692488000574"
      ]
     },
     "execution_count": 8,
     "metadata": {},
     "output_type": "execute_result"
    }
   ],
   "source": [
    "ridge.intercept_ #截距"
   ]
  },
  {
   "cell_type": "code",
   "execution_count": 11,
   "metadata": {
    "scrolled": true
   },
   "outputs": [
    {
     "data": {
      "text/plain": [
       "array([ 18.8831508 ,  40.18851093,  23.82156127,  24.37754622,\n",
       "        21.2198702 ,  22.35854864,  12.15665946,   3.86245059,\n",
       "        19.1521529 ,  15.87735581,  23.84215435,  21.00049716,\n",
       "        16.49873066,  24.38870597,  22.71650145,  32.72496019,\n",
       "        35.08628688,  20.63092124,  17.10321056,  26.8705898 ,\n",
       "        18.68587169,  31.23617694,   0.56335542,  14.96499933,\n",
       "         8.68949965,  16.64031211,  20.35199252,  20.30307999,\n",
       "        22.75163287,  25.88758079,  22.92505851,  26.81064022,\n",
       "        26.33405017,  23.03322337,  28.20563167,  33.21641659,\n",
       "         8.97311825,  17.95355135,  18.08520024,  16.28966831,\n",
       "        34.65269502,  26.13385149,  20.12834074,  23.72093834,\n",
       "        17.28687051,  21.19402774,  24.85670041,  20.13810331,\n",
       "        20.07465554,  12.47916718,  19.46541215,  15.06633575,\n",
       "         9.92804695,  26.02102734,   5.18910043,  14.20680329,\n",
       "        15.88381894,  13.71979179,  22.96349822,  -1.79443861,\n",
       "        20.65143494,  33.75286158,  22.88317786,  32.38869657,\n",
       "        18.14451961,  24.39954453,  23.38855837,  16.41599619,\n",
       "         5.79043596,  15.20260484,  19.74946121,  12.85734328,\n",
       "        32.77570456,  10.08265987,  18.87816618,  16.03198994,\n",
       "        14.62331298,  24.44079998,  31.99435475,  21.79393397,\n",
       "        20.70591331,  19.34785213,  20.34733306,  22.63463063,\n",
       "        25.24730093,  20.17829203,  21.89230078,  24.85607075,\n",
       "        23.85452491,  25.06091682,  18.65334613,  11.39541456,\n",
       "        11.32798938,  18.09409538,  35.81922918,  28.87888119,\n",
       "        28.14307246,  31.68312866,  26.81318526,  18.22562424,\n",
       "        14.24108468,  24.07915421,  18.12418518,  31.48310218,\n",
       "        22.991519  ,  27.65937025,  11.6039022 ,  19.15694227,\n",
       "         1.73799173,  39.61887643,  38.49868994,  14.71786612,\n",
       "        18.00553012,  25.8787057 ,  25.04115463,  20.53006107,\n",
       "        27.56359042,  27.30565597,  30.76372661,  31.42825856,\n",
       "        24.93054114,  41.05565779,  28.46235112,  21.59303068,\n",
       "         7.20407371,  17.80665488,  19.9767047 ])"
      ]
     },
     "execution_count": 11,
     "metadata": {},
     "output_type": "execute_result"
    }
   ],
   "source": [
    "ridge.predict(x_test)"
   ]
  },
  {
   "cell_type": "code",
   "execution_count": 9,
   "metadata": {},
   "outputs": [
    {
     "data": {
      "text/plain": [
       "RidgeCV(alphas=[0.1, 1.0, 10.0], cv=None, fit_intercept=True, gcv_mode=None,\n",
       "    normalize=False, scoring=None, store_cv_values=False)"
      ]
     },
     "execution_count": 9,
     "metadata": {},
     "output_type": "execute_result"
    }
   ],
   "source": [
    "from sklearn.linear_model import RidgeCV #通过\n",
    "reg = RidgeCV(alphas=[0.1, 1.0, 10.0])\n",
    "reg.fit(x_train,y_train)"
   ]
  },
  {
   "cell_type": "code",
   "execution_count": 10,
   "metadata": {},
   "outputs": [
    {
     "data": {
      "text/plain": [
       "0.10000000000000001"
      ]
     },
     "execution_count": 10,
     "metadata": {},
     "output_type": "execute_result"
    }
   ],
   "source": [
    "reg.alpha_"
   ]
  },
  {
   "cell_type": "code",
   "execution_count": 11,
   "metadata": {},
   "outputs": [
    {
     "data": {
      "text/plain": [
       "0.10000000000000001"
      ]
     },
     "execution_count": 11,
     "metadata": {},
     "output_type": "execute_result"
    }
   ],
   "source": [
    "from sklearn.linear_model import Lasso\n",
    "from sklearn.linear_model import LassoCV\n",
    "from sklearn.linear_model import LassoLarsCV\n",
    "#参数http://scikit-learn.org/stable/modules/generated/sklearn.linear_model.LassoCV.html#sklearn.linear_model.LassoCV\n",
    "\n",
    "reg3 = LassoCV(alphas=[0.1, 1.0, 10.0]) #最重要的参数：n_alphas=100, alphas=None\n",
    "reg3.fit(x_train,y_train)\n",
    "reg3.alpha_ #最重要的方法"
   ]
  },
  {
   "cell_type": "code",
   "execution_count": 12,
   "metadata": {
    "collapsed": true
   },
   "outputs": [],
   "source": [
    "#估计器LassoLarsIC建议使用Akaike信息标准（AIC）和贝叶斯信息准则（BIC）\n",
    "#MultiTaskLasso联合估计多个稀疏系数\n",
    "#弹性网——l1和l2正则的结合，只有少量非零项同时也有岭回归的稳定性 ElasticNet，ElasticNetCV "
   ]
  },
  {
   "cell_type": "code",
   "execution_count": 15,
   "metadata": {},
   "outputs": [
    {
     "data": {
      "text/plain": [
       "array([-0.06940358,  0.05754054, -0.03729362,  0.        , -0.        ,\n",
       "        1.09796559,  0.03445629, -0.6449193 ,  0.32699111, -0.01781883,\n",
       "       -0.76296872,  0.00467941, -0.81171403])"
      ]
     },
     "execution_count": 15,
     "metadata": {},
     "output_type": "execute_result"
    }
   ],
   "source": [
    "from sklearn.linear_model import ElasticNet\n",
    "from sklearn.linear_model import ElasticNetCV\n",
    "\n",
    "reg2=ElasticNet(alpha=1.0, l1_ratio=0.5) #默认值。``alpha = 0``相当于普通最小二乘法，l1_ratio表示比例\n",
    "reg2.fit(x_train,y_train)\n",
    "reg2.coef_"
   ]
  },
  {
   "cell_type": "code",
   "execution_count": 16,
   "metadata": {
    "scrolled": true
   },
   "outputs": [
    {
     "data": {
      "text/plain": [
       "array([ 23.21031741,  34.71800857,  24.23696403,  23.53268064,\n",
       "        20.86597162,  24.32869381,  13.68482101,   3.34510626,\n",
       "        18.30398073,  16.11423434,  23.12068799,  21.5492641 ,\n",
       "        15.90066025,  24.52743877,  23.84200609,  32.65015718,\n",
       "        30.94980445,  21.18531971,  13.82833989,  28.64754667,\n",
       "        18.81501955,  30.94800929,  -0.04056094,  17.24206171,\n",
       "         9.60750014,  15.45276143,  21.89680246,  20.64992236,\n",
       "        23.11721174,  27.12482213,  25.24801759,  26.65816681,\n",
       "        26.46137822,  23.98373075,  28.18609131,  31.99677355,\n",
       "         5.89238744,  15.67273083,  21.62333027,  20.62587867,\n",
       "        31.41318464,  27.97604018,  22.15830792,  24.19496469,\n",
       "        16.17297329,  23.11738824,  26.01251374,  21.86818148,\n",
       "        19.77296565,  10.19267025,  19.68089922,  15.92885883,\n",
       "         7.11253633,  24.87851606,   7.22321056,  15.81966889,\n",
       "        15.88226639,  10.22360541,  23.87968252,  -0.5845246 ,\n",
       "        20.78536468,  33.57206706,  23.021927  ,  31.25487228,\n",
       "        21.37484206,  24.46312212,  24.79639324,  18.48124439,\n",
       "         5.24444023,  13.40396527,  20.66406486,  15.66305306,\n",
       "        32.25699973,   8.89333733,  17.51427596,  19.73377553,\n",
       "        15.59590142,  25.26068786,  32.05125708,  23.4743962 ,\n",
       "        20.47885993,  19.59245548,  20.95206708,  22.40036597,\n",
       "        25.73586313,  18.72246177,  24.08020375,  23.45587587,\n",
       "        24.90296758,  26.41023003,  18.63674985,  10.53870561,\n",
       "         9.79098866,  16.43516551,  33.8515514 ,  30.28345555,\n",
       "        27.60971062,  31.25771901,  27.77315997,  16.88836325,\n",
       "        13.88088257,  24.14501894,  19.11719921,  31.65352388,\n",
       "        24.50069817,  27.26400095,  10.70132911,  18.96607675,\n",
       "         0.88464842,  36.02024119,  30.79928007,  12.42569911,\n",
       "        19.61223706,  26.52123194,  25.06250983,  18.97615376,\n",
       "        26.37520972,  27.2744519 ,  27.99542916,  30.60394255,\n",
       "        27.43724344,  35.07575152,  28.19309645,  21.46067309,\n",
       "         6.82054821,  19.4513437 ,  18.07299747])"
      ]
     },
     "execution_count": 16,
     "metadata": {},
     "output_type": "execute_result"
    }
   ],
   "source": [
    "reg2.predict(x_test)"
   ]
  },
  {
   "cell_type": "code",
   "execution_count": 19,
   "metadata": {
    "scrolled": true
   },
   "outputs": [
    {
     "data": {
      "text/plain": [
       "0.57327981195608146"
      ]
     },
     "execution_count": 19,
     "metadata": {},
     "output_type": "execute_result"
    }
   ],
   "source": [
    "reg2.score(x_test,y_test) #返回预测的R^2打分"
   ]
  },
  {
   "cell_type": "code",
   "execution_count": 21,
   "metadata": {},
   "outputs": [
    {
     "data": {
      "text/plain": [
       "1.4380529806949267"
      ]
     },
     "execution_count": 21,
     "metadata": {},
     "output_type": "execute_result"
    }
   ],
   "source": [
    "'''\n",
    "ElasticNetCV 交叉验证得到alpha和l1_ratio的最佳值\n",
    "ElasticNetCV（l1_ratio = 0.5，eps = 0.001，n_alphas = 100，alphas = None，cv = None\n",
    "l1_ratio传测试数组或单数\n",
    "eps路径长度\n",
    "alphas待测列表\n",
    "cv交叉验证生成器/N倍折叠\n",
    "'''\n",
    "from sklearn.linear_model import ElasticNetCV\n",
    "reg4 = ElasticNetCV(cv=5, random_state=0)\n",
    "reg4.fit(x_train,y_train)\n",
    "reg4.alpha_"
   ]
  },
  {
   "cell_type": "code",
   "execution_count": 22,
   "metadata": {},
   "outputs": [
    {
     "data": {
      "text/plain": [
       "0.5"
      ]
     },
     "execution_count": 22,
     "metadata": {},
     "output_type": "execute_result"
    }
   ],
   "source": [
    "reg4.l1_ratio_"
   ]
  },
  {
   "cell_type": "code",
   "execution_count": 23,
   "metadata": {},
   "outputs": [
    {
     "data": {
      "text/plain": [
       "array([-0.05983194,  0.05712568, -0.02571127,  0.        , -0.        ,\n",
       "        0.69947521,  0.04120264, -0.4889974 ,  0.3079982 , -0.01750324,\n",
       "       -0.70737226,  0.00439763, -0.83567378])"
      ]
     },
     "execution_count": 23,
     "metadata": {},
     "output_type": "execute_result"
    }
   ],
   "source": [
    "reg4.coef_"
   ]
  },
  {
   "cell_type": "code",
   "execution_count": 25,
   "metadata": {},
   "outputs": [
    {
     "data": {
      "text/plain": [
       "0.5617857355053022"
      ]
     },
     "execution_count": 25,
     "metadata": {},
     "output_type": "execute_result"
    }
   ],
   "source": [
    "reg4.score(x_test,y_test)"
   ]
  },
  {
   "cell_type": "code",
   "execution_count": 26,
   "metadata": {
    "collapsed": true
   },
   "outputs": [
    {
     "data": {
      "text/plain": [
       "array([  1.43805298e+03,   1.34113302e+03,   1.25074515e+03,\n",
       "         1.16644911e+03,   1.08783434e+03,   1.01451795e+03,\n",
       "         9.46142835e+02,   8.82375974e+02,   8.22906787e+02,\n",
       "         7.67445624e+02,   7.15722357e+02,   6.67485066e+02,\n",
       "         6.22498806e+02,   5.80544470e+02,   5.41417716e+02,\n",
       "         5.04927974e+02,   4.70897518e+02,   4.39160602e+02,\n",
       "         4.09562647e+02,   3.81959495e+02,   3.56216704e+02,\n",
       "         3.32208890e+02,   3.09819123e+02,   2.88938351e+02,\n",
       "         2.69464873e+02,   2.51303842e+02,   2.34366805e+02,\n",
       "         2.18571266e+02,   2.03840295e+02,   1.90102141e+02,\n",
       "         1.77289893e+02,   1.65341147e+02,   1.54197707e+02,\n",
       "         1.43805298e+02,   1.34113302e+02,   1.25074515e+02,\n",
       "         1.16644911e+02,   1.08783434e+02,   1.01451795e+02,\n",
       "         9.46142835e+01,   8.82375974e+01,   8.22906787e+01,\n",
       "         7.67445624e+01,   7.15722357e+01,   6.67485066e+01,\n",
       "         6.22498806e+01,   5.80544470e+01,   5.41417716e+01,\n",
       "         5.04927974e+01,   4.70897518e+01,   4.39160602e+01,\n",
       "         4.09562647e+01,   3.81959495e+01,   3.56216704e+01,\n",
       "         3.32208890e+01,   3.09819123e+01,   2.88938351e+01,\n",
       "         2.69464873e+01,   2.51303842e+01,   2.34366805e+01,\n",
       "         2.18571266e+01,   2.03840295e+01,   1.90102141e+01,\n",
       "         1.77289893e+01,   1.65341147e+01,   1.54197707e+01,\n",
       "         1.43805298e+01,   1.34113302e+01,   1.25074515e+01,\n",
       "         1.16644911e+01,   1.08783434e+01,   1.01451795e+01,\n",
       "         9.46142835e+00,   8.82375974e+00,   8.22906787e+00,\n",
       "         7.67445624e+00,   7.15722357e+00,   6.67485066e+00,\n",
       "         6.22498806e+00,   5.80544470e+00,   5.41417716e+00,\n",
       "         5.04927974e+00,   4.70897518e+00,   4.39160602e+00,\n",
       "         4.09562647e+00,   3.81959495e+00,   3.56216704e+00,\n",
       "         3.32208890e+00,   3.09819123e+00,   2.88938351e+00,\n",
       "         2.69464873e+00,   2.51303842e+00,   2.34366805e+00,\n",
       "         2.18571266e+00,   2.03840295e+00,   1.90102141e+00,\n",
       "         1.77289893e+00,   1.65341147e+00,   1.54197707e+00,\n",
       "         1.43805298e+00])"
      ]
     },
     "execution_count": 26,
     "metadata": {},
     "output_type": "execute_result"
    }
   ],
   "source": [
    "reg4.alphas_"
   ]
  },
  {
   "cell_type": "code",
   "execution_count": null,
   "metadata": {
    "collapsed": true
   },
   "outputs": [],
   "source": [
    "# MultiTaskElasticNet 联合估计多个回归问题的稀疏系数\n",
    "#最小角度回归\n",
    "#正交匹配追踪"
   ]
  },
  {
   "cell_type": "code",
   "execution_count": null,
   "metadata": {
    "collapsed": true
   },
   "outputs": [],
   "source": [
    "#贝叶斯回归：在学习中估计正则参数，但不是CV，不耗时用全数据集，假设Y遵循高斯分布，同时更复杂\n",
    "#带有参数估计的问题都能用贝叶斯，别人计算最优化的准确值，贝叶斯计算未知参数的分布情况\n",
    "from sklearn.linear_model import BayesianRidge\n",
    "reg5 = linear_model.BayesianRidge()\n",
    "reg.fit(x_train,y_train)"
   ]
  },
  {
   "cell_type": "code",
   "execution_count": 29,
   "metadata": {},
   "outputs": [
    {
     "data": {
      "text/plain": [
       "array([1])"
      ]
     },
     "execution_count": 29,
     "metadata": {},
     "output_type": "execute_result"
    }
   ],
   "source": [
    "'''\n",
    "逻辑回归:LogisticRegression（penalty ='l2'，dual = False，tol = 0.0001，C = 1.0，solver ='liblinear',multi_class ='ovr '\n",
    "multi_class ='ovr ' 默认一对多分类，multinomial，多项式\n",
    "solver =“liblinear”（默认，二分类小数据），“newton-cg”（仅l2），“lbfgs”（仅l2），“sag”（仅l2）和“saga”（通常最好）罚项支持不同\n",
    "'''\n",
    "from sklearn.linear_model import LogisticRegression\n",
    "X=[[1,0],[1,1]]\n",
    "Y=[1,0]\n",
    "reg6=LogisticRegression()\n",
    "reg6.fit(X,Y)\n",
    "reg6.predict([[0,0]])"
   ]
  },
  {
   "cell_type": "code",
   "execution_count": 33,
   "metadata": {},
   "outputs": [
    {
     "data": {
      "text/plain": [
       "array([[ 0.48691094,  0.51308906]])"
      ]
     },
     "execution_count": 33,
     "metadata": {},
     "output_type": "execute_result"
    }
   ],
   "source": [
    "reg6.predict_proba([[0,0]]) #概率"
   ]
  },
  {
   "cell_type": "code",
   "execution_count": 34,
   "metadata": {},
   "outputs": [
    {
     "data": {
      "text/plain": [
       "1.0"
      ]
     },
     "execution_count": 34,
     "metadata": {},
     "output_type": "execute_result"
    }
   ],
   "source": [
    "reg6.score(X,Y) #测试集分数"
   ]
  },
  {
   "cell_type": "code",
   "execution_count": null,
   "metadata": {
    "collapsed": true
   },
   "outputs": [],
   "source": [
    "# linearsvc:与参数kernel ='linear'的SVC类似，但是以liblinear而不是libsvm来实现\n",
    "from sklearn.svm import LinearSVC\n",
    "reg7=LinearSVC(penalty=’l2’, loss=’squared_hinge’, dual=True, tol=0.0001, C=1.0, multi_class=’ovr’)\n",
    "# loss指定丢失函数   Prefer dual=False when n_samples > n_features即低维\n",
    "reg7.predict\n",
    "reg7.score"
   ]
  },
  {
   "cell_type": "code",
   "execution_count": null,
   "metadata": {
    "collapsed": true
   },
   "outputs": [],
   "source": [
    "#随机梯度下降 SGD，分为SGDClassifier和SGDRegressor，使用不同的损失函数和不同惩罚进行分类和回归\n",
    "#该估计器实现了具有随机梯度下降（SGD）学习的正则化线性模型：每次估计一个样本的损失梯度，并且模型随着强度递减（也称为学习率）更新。\n",
    "#单个训练样本来逼近真实梯度，优点：效率，缺点：对特征缩放很敏感，所以要标准化\n",
    "\n",
    "#SGDClassifier\n",
    "from sklearn.linear_model import SGDClassifier\n",
    "clf = SGDClassifier(loss=\"hinge\", penalty=\"l2\"alpha= 0.0001，l1_ratio = 0.15，learning_rate='invscaling'，average=True)\n",
    "#loss=\"hinge\"线性SVM“log”损失给出逻辑回归，概率分类器\n",
    "#penalty='none'，'l2'，'l1'或'elasticnet'"
   ]
  },
  {
   "cell_type": "code",
   "execution_count": null,
   "metadata": {
    "collapsed": true
   },
   "outputs": [],
   "source": [
    "#SGDRegressor：非常适合回归问题具有大量训练样本，（> 10.000），否则用lasso等\n",
    "from sklearn.linear_model import SGDRegressor\n",
    "clf = SGDRegressor (loss== 'squared_loss' , penalty=\"l2\"alpha= 0.0001，l1_ratio = 0.15，learning_rate='invscaling')\n",
    "clf.average_coef_ #平均权重\n",
    "#loss=“squared_loss”(最小二乘法拟合)，“huber”，“epsilon_insensitive”（线性支持向量机回归）或“squared_epsilon_insensitive”"
   ]
  },
  {
   "cell_type": "code",
   "execution_count": null,
   "metadata": {
    "collapsed": true
   },
   "outputs": [],
   "source": [
    "#鲁棒性回归：在有异常值和错误时拟合模型，高维特征拟合困难\n",
    "#3个鲁棒的回归估计： RANSAC， Theil Sen和 HuberRegressor\n",
    "\n",
    "# RANSAC：随机样本子集--残差--小残差内部集\n",
    "#Theil Sen：中位数回归\n",
    "#HuberRegressor：不同于前两者，它不会忽视离群值的影响，而是给予它们更小的权重，如果该样本的绝对误差小于某个阈值，则样本被归类为一个惰性"
   ]
  },
  {
   "cell_type": "code",
   "execution_count": null,
   "metadata": {
    "collapsed": true
   },
   "outputs": [],
   "source": [
    "#多项式回归：不线性转变为线性\n",
    "from sklearn.preprocessing import PolynomialFeatures\n",
    "p=PolynomialFeatures （degree = 3 ）\n",
    "p.fit_transform(x)"
   ]
  },
  {
   "cell_type": "code",
   "execution_count": null,
   "metadata": {
    "collapsed": true
   },
   "outputs": [],
   "source": [
    "'''\n",
    "线性模型的要求是XY有线性关系而X自身不能线性相关，多项式\n",
    "'''"
   ]
  }
 ],
 "metadata": {
  "kernelspec": {
   "display_name": "Python 3",
   "language": "python",
   "name": "python3"
  },
  "language_info": {
   "codemirror_mode": {
    "name": "ipython",
    "version": 3
   },
   "file_extension": ".py",
   "mimetype": "text/x-python",
   "name": "python",
   "nbconvert_exporter": "python",
   "pygments_lexer": "ipython3",
   "version": "3.5.2"
  }
 },
 "nbformat": 4,
 "nbformat_minor": 2
}
