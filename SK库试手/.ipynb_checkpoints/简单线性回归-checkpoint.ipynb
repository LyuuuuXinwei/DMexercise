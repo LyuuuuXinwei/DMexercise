{
 "cells": [
  {
   "cell_type": "code",
   "execution_count": 10,
   "metadata": {},
   "outputs": [
    {
     "name": "stderr",
     "output_type": "stream",
     "text": [
      "c:\\users\\yechao\\appdata\\local\\programs\\python\\python35\\lib\\site-packages\\sklearn\\cross_validation.py:41: DeprecationWarning: This module was deprecated in version 0.18 in favor of the model_selection module into which all the refactored classes and functions are moved. Also note that the interface of the new CV iterators are different from that of this module. This module will be removed in 0.20.\n",
      "  \"This module will be removed in 0.20.\", DeprecationWarning)\n"
     ]
    }
   ],
   "source": [
    "import numpy as np\n",
    "import pandas as pd\n",
    "from sklearn.linear_model import LinearRegression\n",
    "from sklearn.datasets import load_boston\n",
    "from sklearn.cross_validation import train_test_split\n",
    "\n",
    "n=14\n",
    "boston = load_boston() \n",
    "x = boston[\"data\"]  \n",
    "y = boston[\"target\"] \n",
    "x_train,x_test,y_train,y_test=train_test_split(x,y,random_state=n)"
   ]
  },
  {
   "cell_type": "code",
   "execution_count": 11,
   "metadata": {},
   "outputs": [
    {
     "data": {
      "text/plain": [
       "(506, 13)"
      ]
     },
     "execution_count": 11,
     "metadata": {},
     "output_type": "execute_result"
    }
   ],
   "source": [
    "x.shape"
   ]
  },
  {
   "cell_type": "code",
   "execution_count": 12,
   "metadata": {},
   "outputs": [
    {
     "data": {
      "text/plain": [
       "LinearRegression(copy_X=True, fit_intercept=True, n_jobs=1, normalize=False)"
      ]
     },
     "execution_count": 12,
     "metadata": {},
     "output_type": "execute_result"
    }
   ],
   "source": [
    "reg=LinearRegression()\n",
    "reg.fit(x_train,y_train)"
   ]
  },
  {
   "cell_type": "code",
   "execution_count": 13,
   "metadata": {},
   "outputs": [
    {
     "data": {
      "text/plain": [
       "array([ -9.60168563e-02,   4.63792125e-02,   1.77851524e-02,\n",
       "         2.50725900e+00,  -1.62213061e+01,   4.29335872e+00,\n",
       "         6.60209641e-03,  -1.36616761e+00,   3.02368191e-01,\n",
       "        -1.26490079e-02,  -9.60133355e-01,   6.06754411e-03,\n",
       "        -5.58614797e-01])"
      ]
     },
     "execution_count": 13,
     "metadata": {},
     "output_type": "execute_result"
    }
   ],
   "source": [
    "reg.coef_"
   ]
  },
  {
   "cell_type": "code",
   "execution_count": 14,
   "metadata": {
    "scrolled": true
   },
   "outputs": [
    {
     "data": {
      "text/plain": [
       "array([ 16.82264066,  41.10198881,  21.06588819,  24.95023949,\n",
       "        22.21833085,  21.27335314,  11.98058513,   4.56562768,\n",
       "        19.23694098,  16.8247217 ,  24.09302733,  19.10710692,\n",
       "        15.67845206,  24.49484816,  22.7538729 ,  31.82944051,\n",
       "        35.69619104,  20.0080395 ,  17.55676852,  27.01706782,\n",
       "        19.07451919,  32.7953848 ,   2.49128289,  14.76449099,\n",
       "         8.21155925,  15.9681512 ,  17.62960723,  20.09418911,\n",
       "        22.3758672 ,  26.14233728,  21.84091632,  27.04728117,\n",
       "        25.44936345,  23.43591879,  28.57164003,  33.18254939,\n",
       "         9.68861904,  18.26630043,  16.96401927,  16.24851967,\n",
       "        35.88289211,  25.54765907,  19.33253429,  24.16047792,\n",
       "        16.78028984,  19.91319939,  25.17753354,  20.44859817,\n",
       "        20.00897264,  12.95167119,  20.28242265,  15.11978376,\n",
       "        10.06875434,  26.59397606,   4.90550454,  13.93027425,\n",
       "        16.511494  ,  14.2645356 ,  22.19578894,  -1.1779919 ,\n",
       "        19.00881167,  33.60640836,  22.43262304,  33.23811629,\n",
       "        17.66958087,  24.99951692,  23.25777361,  16.71446776,\n",
       "         5.79682841,  13.78981234,  20.43195885,  13.03148276,\n",
       "        32.87698083,   9.64156875,  18.01928472,  14.97606666,\n",
       "        13.78736898,  24.8900523 ,  31.81952229,  22.38141929,\n",
       "        19.68546354,  20.10906773,  20.73234989,  23.08087417,\n",
       "        24.90243202,  19.52727229,  20.87982508,  25.94029945,\n",
       "        24.2402885 ,  25.8231248 ,  18.87100339,  12.90500032,\n",
       "        11.36543815,  18.05319235,  36.0427901 ,  27.94678212,\n",
       "        28.91042079,  32.41084876,  27.21925939,  17.82527874,\n",
       "        15.43167268,  24.21777498,  17.92310366,  31.72415889,\n",
       "        22.91054077,  28.58114517,  13.18569939,  18.05330675,\n",
       "         2.47002768,  41.0181806 ,  38.7273909 ,  14.13831703,\n",
       "        17.47645797,  25.89384878,  25.66329612,  21.90762683,\n",
       "        28.83036212,  26.9151309 ,  32.16502123,  31.19321298,\n",
       "        24.35067645,  42.92534409,  28.52549221,  22.94413239,\n",
       "         6.9532596 ,  18.30095879,  19.39229811])"
      ]
     },
     "execution_count": 14,
     "metadata": {},
     "output_type": "execute_result"
    }
   ],
   "source": [
    "reg.predict(x_test)"
   ]
  },
  {
   "cell_type": "code",
   "execution_count": null,
   "metadata": {
    "collapsed": true
   },
   "outputs": [],
   "source": []
  }
 ],
 "metadata": {
  "kernelspec": {
   "display_name": "Python 3",
   "language": "python",
   "name": "python3"
  },
  "language_info": {
   "codemirror_mode": {
    "name": "ipython",
    "version": 3
   },
   "file_extension": ".py",
   "mimetype": "text/x-python",
   "name": "python",
   "nbconvert_exporter": "python",
   "pygments_lexer": "ipython3",
   "version": "3.5.2"
  }
 },
 "nbformat": 4,
 "nbformat_minor": 2
}
