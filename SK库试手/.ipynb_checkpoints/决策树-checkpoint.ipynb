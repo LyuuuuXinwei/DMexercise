{
 "cells": [
  {
   "cell_type": "code",
   "execution_count": null,
   "metadata": {
    "collapsed": true
   },
   "outputs": [],
   "source": [
    "import numpy as np\n",
    "import pandas as pd"
   ]
  },
  {
   "cell_type": "code",
   "execution_count": null,
   "metadata": {
    "collapsed": true
   },
   "outputs": [],
   "source": [
    "from sklearn.tree import DecisionTreeClassifier\n",
    "tree=DecisionTreeClassifier()\n",
    "tree.fit(x,y)\n",
    "tree.predict(z)\n",
    "tree.predict_proba(z)\n",
    "\n",
    "#参数\n",
    "criterion=’gini’#“gini”“entropy”\n",
    "splitter=’best’#“random” \n",
    "max_depth=None\n",
    "min_samples_split=2 #拆分内部节点所需的最小样本数，可以是数或百分比\n",
    "min_samples_leaf=1 #叶节点的最小样本数\n",
    "min_weight_fraction_leaf=0.0\n",
    "max_features=None\n",
    "\n",
    "#属性方法\n",
    "tree.classes_\n",
    "tree.feature_importances_\n",
    "tree.n_classes_ #类别数\n",
    "tree.n_features_ #特征数\n",
    "\n",
    "tree.apply(X[, check_input]) #样本的叶子索引\n",
    "tree.decision_path(X[, check_input]) #样本的决策路径\n",
    "tree.predict_proba(X[, check_input]) \n",
    "tree.score()"
   ]
  },
  {
   "cell_type": "code",
   "execution_count": null,
   "metadata": {
    "collapsed": true
   },
   "outputs": [],
   "source": [
    "from sklearn.tree import DecisionTreeRegressor\n",
    "tree=DecisionTreeRegressor()\n",
    "tree.fit(x,y)\n",
    "\n",
    "#参数\n",
    "criterion=#“mse”均方误差“friedman_mse”with Friedman’s improvement score“mae” 平均绝对误差\n",
    "#同上"
   ]
  },
  {
   "cell_type": "code",
   "execution_count": null,
   "metadata": {
    "collapsed": true
   },
   "outputs": [],
   "source": [
    "#分类回归都支持多输出"
   ]
  },
  {
   "cell_type": "code",
   "execution_count": null,
   "metadata": {
    "collapsed": true
   },
   "outputs": [],
   "source": []
  }
 ],
 "metadata": {
  "kernelspec": {
   "display_name": "Python 3",
   "language": "python",
   "name": "python3"
  },
  "language_info": {
   "codemirror_mode": {
    "name": "ipython",
    "version": 3
   },
   "file_extension": ".py",
   "mimetype": "text/x-python",
   "name": "python",
   "nbconvert_exporter": "python",
   "pygments_lexer": "ipython3",
   "version": "3.5.2"
  }
 },
 "nbformat": 4,
 "nbformat_minor": 2
}
