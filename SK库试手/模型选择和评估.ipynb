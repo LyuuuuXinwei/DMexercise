{
 "cells": [
  {
   "cell_type": "code",
   "execution_count": null,
   "metadata": {
    "collapsed": true
   },
   "outputs": [],
   "source": [
    "#交叉验证\n",
    "from  sklearn.model_selection  import  train_test_split \n",
    "X_train, X_test, y_train, y_test = train_test_split(iris.data, iris.target, test_size=0.4, random_state=0)\n",
    "\n",
    "from sklearn.model_selection import cross_val_score\n",
    "scores = cross_val_score(clf, iris.data, iris.target, cv=5, scoring='f1_macro') \n",
    "#http://scikit-learn.org/stable/modules/model_evaluation.html#scoring-parameter ，scoring的类型\n",
    "scores.mean()\n",
    "\n",
    "#交叉验证的每次随机选验证集版本，会重复\n",
    "from sklearn.model_selection import ShuffleSplit\n",
    "cv = ShuffleSplit(n_splits=3, test_size=0.3, ，train_size = ，random_state=0)\n",
    "for train_index, test_index in cv.split(X):"
   ]
  },
  {
   "cell_type": "code",
   "execution_count": null,
   "metadata": {
    "collapsed": true
   },
   "outputs": [],
   "source": [
    "#多分数交叉验证\n",
    "from sklearn.model_selection import cross_validate\n",
    "from sklearn.metrics import recall_score\n",
    "scoring = ['precision_macro', 'recall_macro']\n",
    "scores = cross_validate(clf, iris.data, iris.target, scoring=scoring,cv=5, return_train_score=False)\n",
    "sorted(scores.keys())\n",
    "scores['test_recall_macro']\n",
    "\n",
    "from sklearn.metrics.scorer import make_scorer #自定义评分和字典from sklearn.model_selection import cross_val_predict\n",
    "scoring = {'prec_macro': 'precision_macro','rec_micro': make_scorer(recall_score, average='macro')}"
   ]
  },
  {
   "cell_type": "code",
   "execution_count": null,
   "metadata": {
    "collapsed": true
   },
   "outputs": [],
   "source": [
    "#为数据集做预测\n",
    "from sklearn.model_selection import cross_val_predict\n",
    "y_pred = cross_val_predict(clf, X, y)"
   ]
  },
  {
   "cell_type": "code",
   "execution_count": null,
   "metadata": {
    "collapsed": true
   },
   "outputs": [],
   "source": [
    "KFold\n",
    "RepeatedKFold\n",
    "LeaveOneOut #只有一个样本作为测试集，5或10倍交叉验证应优于LOO\n",
    "lpo = LeavePOut(p=2)"
   ]
  },
  {
   "cell_type": "code",
   "execution_count": null,
   "metadata": {
    "collapsed": true
   },
   "outputs": [],
   "source": [
    "#样本类别不平衡需要分层抽取测试集\n",
    "from sklearn.model_selection import StratifiedKFold\n",
    "RepeatedStratifiedKFold\n",
    "StratifiedShuffleSplit"
   ]
  },
  {
   "cell_type": "code",
   "execution_count": null,
   "metadata": {
    "collapsed": true
   },
   "outputs": [],
   "source": [
    "#按照组别划分\n",
    "GroupKFold\n",
    "gkf = GroupKFold(n_splits=3) #同一组拆分到一起\n",
    "gkf.split(X, y, groups=groups)\n",
    "\n",
    "LeaveOneGroupOut\n",
    "LeavePGroupsOut\n",
    "GroupShuffleSplit"
   ]
  },
  {
   "cell_type": "code",
   "execution_count": null,
   "metadata": {
    "collapsed": true
   },
   "outputs": [],
   "source": [
    "#时间序列交叉验证,\n",
    "from sklearn.model_selection import TimeSeriesSplit\n",
    "tscv = TimeSeriesSplit(n_splits=3)\n",
    "for train, test in tscv.split(X):"
   ]
  },
  {
   "cell_type": "code",
   "execution_count": 8,
   "metadata": {},
   "outputs": [
    {
     "name": "stdout",
     "output_type": "stream",
     "text": [
      "TimeSeriesSplit(max_train_size=None, n_splits=3)\n",
      "[0 1 2] [3 4 5]\n",
      "[0 1 2 3 4 5] [6 7 8]\n",
      "[0 1 2 3 4 5 6 7 8] [ 9 10 11]\n"
     ]
    }
   ],
   "source": [
    "import numpy as np\n",
    "from sklearn.model_selection import TimeSeriesSplit\n",
    "\n",
    "X = np.array([[1, 2], [3, 4], [1, 2], [3, 4], [1, 2], [3, 4],[1, 2], [3, 4], [1, 2], [3, 4], [1, 2], [3, 4]])\n",
    "y = np.array([1, 2, 3, 4, 5, 6,7,8,9,10,11,12])\n",
    "tscv = TimeSeriesSplit(n_splits=3)\n",
    "print(tscv)  \n",
    "\n",
    "for train, test in tscv.split(X):\n",
    "    print(\"%s %s\" % (train, test))"
   ]
  },
  {
   "cell_type": "code",
   "execution_count": null,
   "metadata": {
    "collapsed": true
   },
   "outputs": [],
   "source": [
    "#超参数：参数空间搜索，样本选择，交叉验证和打分\n",
    "estimator.get_params() #返回估计器的参数值\n",
    "\n",
    "#GridSearchCV\n",
    "param_grid\n",
    "param_grid = [\n",
    "  {'C': [1, 10, 100, 1000], 'kernel': ['linear']},\n",
    "  {'C': [1, 10, 100, 1000], 'gamma': [0.001, 0.0001], 'kernel': ['rbf']},]\n",
    "#两个网格\n",
    "scores = ['precision', 'recall']\n",
    "clf = GridSearchCV(SVC(), tuned_parameters, cv=5,\n",
    "                       scoring='%s_macro' % score) #for\n",
    "#多个打分，分数名字/分数函数\n",
    "scoring = {'AUC': 'roc_auc', 'Accuracy': make_scorer(accuracy_score)} #字典，在cv_results_中会有打分名称的标识\n",
    "scoring = scoring\n",
    "#方法：会继承估计器的\n",
    "clf.fit(X_train, y_train)\n",
    "clf.best_params_\n",
    "best_estimator_\n",
    "best_score_\n",
    "#clf.cv_results_包括一堆\n",
    "means = clf.cv_results_['mean_test_score']\n",
    "stds = clf.cv_results_['std_test_score']\n",
    "clf.cv_results_['params']\n",
    "clf.predict(X_test)\n",
    "\n",
    "\n",
    "#RandomizedSearchCV 可以写连续范围，随机抽样\n",
    "param_distributions\n",
    "param_distributions={'C': scipy.stats.expon(scale=100), 'gamma': scipy.stats.expon(scale=.1),\n",
    "  'kernel': ['rbf'], 'class_weight':['balanced', None]}\n",
    "#参数\n",
    "n_iter #参数采样的数量\n",
    "\n",
    "\n",
    "#某些模型特定的参数搜多和交叉验证\n",
    "linear_model.LassoCV\n",
    "linear_model.ElasticNetCV\n",
    "linear_model.RidgeCV\n",
    "#还有集成学习的包等"
   ]
  },
  {
   "cell_type": "code",
   "execution_count": null,
   "metadata": {
    "collapsed": true
   },
   "outputs": [],
   "source": [
    "#模型评估：估计器或交叉验证的分数/metrics库提供的实现特定目的的评估，metrics定制自己的评分函数\n",
    "#1.非默认值定制\n",
    "from sklearn.metrics import fbeta_score, make_scorer\n",
    "ftwo_scorer = make_scorer(fbeta_score, beta=2)\n",
    "#2.完全定制：例如定制混淆矩阵\n",
    "X, y = datasets.make_classification(n_classes=2, random_state=0)\n",
    "svm = LinearSVC(random_state=0)\n",
    "def tp(y_true, y_pred): return confusion_matrix(y_true, y_pred)[0, 0]\n",
    "def tn(y_true, y_pred): return confusion_matrix(y_true, y_pred)[0, 0]\n",
    "def fp(y_true, y_pred): return confusion_matrix(y_true, y_pred)[1, 0]\n",
    "def fn(y_true, y_pred): return confusion_matrix(y_true, y_pred)[0, 1]\n",
    "scoring = {'tp' : make_scorer(tp), 'tn' : make_scorer(tn),\n",
    "           'fp' : make_scorer(fp), 'fn' : make_scorer(fn)}\n",
    "cv_results = cross_validate(svm.fit(X, y), X, y, scoring=scoring)\n",
    "\n",
    "\n",
    "#classification_report不同类别的分类报告\n",
    "target_names = ['class 0', 'class 1', 'class 2']\n",
    "classification_report(y_true, y_pred, target_names=target_names)\n",
    "\n",
    "\n",
    "precision_score和recall_score\n",
    "#多分类的F1召回准确率问题：\n",
    "precision_score\n",
    "recall_score\n",
    "f1_score\n",
    "average='micro' #设置多分类的计算方式\n",
    "\n",
    "\n",
    "#铰链损失：用于最大边缘分类器，如SVM，单侧\n",
    "hinge_loss \n",
    "\n",
    "#Log loss，逻辑回归损失\n",
    "\n",
    "#roc_curve "
   ]
  },
  {
   "cell_type": "code",
   "execution_count": null,
   "metadata": {
    "collapsed": true
   },
   "outputs": [],
   "source": [
    "sklearn.dummy.DummyClassifier#简单预测和简单回归，为了对比一些最原始的分类器可估计器的差别\n",
    "stratified 通过尊重训练集类分布来生成随机预测。\n",
    "most_frequent 总是预测训练集中最常见的标签。\n",
    "prior总是预测课程最大化之前的课程（如返回班级之前。most_frequent`) and ``predict_proba\n",
    "uniform 随机产生预测。\n",
    "constant 总是预测用户提供的常量标签。"
   ]
  },
  {
   "cell_type": "code",
   "execution_count": null,
   "metadata": {
    "collapsed": true
   },
   "outputs": [],
   "source": [
    "#分类器的保存\n",
    "import pickle\n",
    "s = pickle.dumps(clf) #变量\n",
    "clf2 = pickle.loads(s)\n",
    "\n",
    "#带着大量numpy数组时用joblib\n",
    "from sklearn.externals import joblib\n",
    "joblib.dump(clf, 'filename.pkl')  #文件"
   ]
  },
  {
   "cell_type": "code",
   "execution_count": null,
   "metadata": {
    "collapsed": true
   },
   "outputs": [],
   "source": [
    "#验证曲线：验证单个超参数对模型得分（训练和测试集）的曲线\n",
    "train_scores, valid_scores = validation_curve(Ridge(), X, y, \"alpha\",np.logspace(-7, 3, 3))\n",
    "validation_curve(estimator, X, y, param_name, param_range,)\n",
    "\n",
    "#学习曲线：验证样本数量对模型得分的曲线\n",
    "#随着样本的增大，训练集得分降低，测试集增高，随后逐渐接近\n",
    "train_sizes, train_scores, valid_scores = learning_curve(\n",
    "    SVC(kernel='linear'), X, y, train_sizes=[50, 80, 110], cv=5)\n",
    "\n",
    "#学习曲线像是没什么谱的时候的一种估计，找一个还凑活的先试试"
   ]
  }
 ],
 "metadata": {
  "kernelspec": {
   "display_name": "Python 3",
   "language": "python",
   "name": "python3"
  },
  "language_info": {
   "codemirror_mode": {
    "name": "ipython",
    "version": 3
   },
   "file_extension": ".py",
   "mimetype": "text/x-python",
   "name": "python",
   "nbconvert_exporter": "python",
   "pygments_lexer": "ipython3",
   "version": "3.5.2"
  }
 },
 "nbformat": 4,
 "nbformat_minor": 2
}
