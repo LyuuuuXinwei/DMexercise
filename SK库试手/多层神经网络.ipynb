{
 "cells": [
  {
   "cell_type": "code",
   "execution_count": null,
   "metadata": {
    "collapsed": true
   },
   "outputs": [],
   "source": [
    "from sklearn.neural_network import MLPClassifier\n",
    "clf = MLPClassifier()\n",
    "\n",
    "#参数\n",
    "hidden_layer_sizes=(100, )\n",
    "\n",
    "activation=’relu’\n",
    "#{‘identity’, ‘logistic’, ‘tanh’, ‘relu’}, default ‘relu’\n",
    "'''\n",
    "“身份”，无操作激活，有助于实现线性瓶颈，返回f（x）= x\n",
    "逻辑Sigmoid函数'logistic'返回f（x）= 1 /（1 + exp（-x））。\n",
    "“tanh”，双曲线tan函数返回f（x）= tanh（x）。\n",
    "整数线性单位函数'relu'返回f（x）= max（0，x）\n",
    "'''\n",
    "\n",
    "solver=’adam’\n",
    "#{‘lbfgs’, ‘sgd’, ‘adam’}\n",
    "'''\n",
    "“lbfgs”是准牛顿法中的优化器。 快，不支持在线和小批量\n",
    "“sgd”是指随机梯度下降。\n",
    "“adam”是指由Kingma，Diederik和Jimmy Ba提出的随机梯度优化器。大数据集好\n",
    "'''\n",
    "\n",
    "alpha = 0.0001 #L2参数\n",
    "\n",
    "learning_rate_init = 0.001 #初始学习率\n",
    "learning_rate ='constant'\n",
    "#{'constant'，'invscaling'，'adaptive'}\n",
    "'''\n",
    "'constant' 保持初始学习率\n",
    "'invscaling' 逐渐降低\n",
    "'adaptive'\n",
    "'''\n",
    "\n",
    "early_stopping = False #自动分出验证集早停\n",
    "validation_fraction = 0.1 #设定验证集比例\n",
    "\n",
    "#方法\n",
    "clf.coefs_ #权重矩阵\n",
    "clf.predict_proba "
   ]
  },
  {
   "cell_type": "code",
   "execution_count": null,
   "metadata": {
    "collapsed": true
   },
   "outputs": [],
   "source": [
    "from sklearn.neural_network import MLPRegressor\n",
    "#不使用激活函数\n",
    "\n",
    "#同上"
   ]
  }
 ],
 "metadata": {
  "kernelspec": {
   "display_name": "Python 3",
   "language": "python",
   "name": "python3"
  },
  "language_info": {
   "codemirror_mode": {
    "name": "ipython",
    "version": 3
   },
   "file_extension": ".py",
   "mimetype": "text/x-python",
   "name": "python",
   "nbconvert_exporter": "python",
   "pygments_lexer": "ipython3",
   "version": "3.5.2"
  }
 },
 "nbformat": 4,
 "nbformat_minor": 2
}
