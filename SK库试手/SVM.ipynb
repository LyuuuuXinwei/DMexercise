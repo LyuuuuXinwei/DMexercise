{
 "cells": [
  {
   "cell_type": "code",
   "execution_count": 2,
   "metadata": {
    "collapsed": true
   },
   "outputs": [],
   "source": [
    "import numpy as np\n",
    "import pandas as pd"
   ]
  },
  {
   "cell_type": "code",
   "execution_count": null,
   "metadata": {
    "collapsed": true
   },
   "outputs": [],
   "source": [
    "# SVC\n",
    "from sklearn.svm import SVC\n",
    "clf = SVC()\n",
    "clf.fit(x, y)\n",
    "\n",
    "#常用参数\n",
    "C=1.0\n",
    "\n",
    "kernel=’rbf’#径向基函数\n",
    "# ‘linear’, ‘poly’（多项式）, ‘rbf’, ‘sigmoid’, ‘precomputed’，其中'precomputed'在fit方法中设置并传递Gram矩阵而不是X\n",
    "\n",
    "degree=3,\n",
    "#多项式核函数的程度\n",
    "\n",
    "probability=False\n",
    "#引入概率\n",
    "\n",
    "tol=0.001\n",
    "\n",
    "\n",
    "class_weight=None，sample_weight\n",
    "#不平衡问题：有的样本权重大或有的类别权重大\n",
    "\n",
    "decision_function_shape=’ovr’\n",
    "#多分类问题\n",
    "#coef_和intercept_返回的是各个一对一的参数，0到n类的顺序为“0 vs 1”，“0 vs 2”，...“0 vs n”，“1 vs 2”，“1 vs 3”，“1 vs n” 。。“n-1 vs n”\n",
    "\n",
    "#属性和方法\n",
    "clf.predict()\n",
    "clf.support_vectors_ #支持向量\n",
    "clf.support_  #支持向量的指标\n",
    "clf.n_support_ #每个类的支持向量数\n",
    "clf.coef_ #特征权重\n",
    "clf.score #测试精度\n",
    "\n",
    "dec = clf.decision_function([[1]]) #样本[[1]]在每个类别的距离\n",
    "dec.shape[1] # 4 classes: 4*3/2 = 6\n",
    "\n",
    "clf.predict_proba \n",
    "clf.predict_log_proba #加入概率估计\n",
    "\n",
    "\n"
   ]
  },
  {
   "cell_type": "code",
   "execution_count": null,
   "metadata": {
    "collapsed": true
   },
   "outputs": [],
   "source": [
    "# linearsvc:与参数kernel ='linear'的SVC类似，但是以liblinear而不是libsvm来实现\n",
    "from sklearn.svm import LinearSVC\n",
    "reg7=LinearSVC(penalty=’l2’, loss=’squared_hinge’, dual=True, tol=0.0001, C=1.0, multi_class=’ovr’)\n",
    "# loss指定丢失函数   Prefer dual=False when n_samples > n_features即低维\n",
    "reg7.predict\n",
    "reg7.score\n",
    "\n",
    "#linearSVC多分类默认OVR\n",
    "#linearSVC另一种多分类处理：multi_class='crammer_singer'，但准确度低\n",
    "#linearSVC的方法coef_和intercept_返回的是各个一对多的参数"
   ]
  },
  {
   "cell_type": "code",
   "execution_count": null,
   "metadata": {
    "collapsed": true
   },
   "outputs": [],
   "source": [
    "# SVR\n",
    "from sklearn.svm import SVR\n",
    "reg = SVR()\n",
    "reg.fit(x, y)  \n",
    "\n",
    "#常用参数\n",
    "kernel ='rbf'\n",
    "#‘linear’, ‘poly’, ‘rbf’, ‘sigmoid’, ‘precomputed’\n",
    "\n",
    "degree = 3\n",
    "\n",
    "gamma ='auto'\n",
    "#'rbf'，'poly'和'sigmoid'的内核系数\n",
    "\n",
    "C = 1.0，epsilon = 0.1\n",
    "#自由参数\n",
    "\n",
    "#方法和属性\n",
    "#同SVC"
   ]
  },
  {
   "cell_type": "code",
   "execution_count": null,
   "metadata": {
    "collapsed": true
   },
   "outputs": [],
   "source": [
    "#LinearSVR\n",
    "LinearSVR(epsilon=0.0, tol=0.0001, C=1.0, loss=’epsilon_insensitive’, fit_intercept=True, intercept_scaling=1.0, dual=True, \n",
    "#'epsilon_insensitive'或'squared_epsilon_insensitive'指定丢失函数。“l1”是ε不敏感损失（标准SVR），而'l2'是平方不敏感损失。"
   ]
  }
 ],
 "metadata": {
  "kernelspec": {
   "display_name": "Python 3",
   "language": "python",
   "name": "python3"
  },
  "language_info": {
   "codemirror_mode": {
    "name": "ipython",
    "version": 3
   },
   "file_extension": ".py",
   "mimetype": "text/x-python",
   "name": "python",
   "nbconvert_exporter": "python",
   "pygments_lexer": "ipython3",
   "version": "3.5.2"
  }
 },
 "nbformat": 4,
 "nbformat_minor": 2
}
