{
 "cells": [
  {
   "cell_type": "code",
   "execution_count": null,
   "metadata": {
    "collapsed": true
   },
   "outputs": [],
   "source": [
    "from sklearn.cluster import KMeans\n",
    "\n",
    "#参数\n",
    "n_clusters\n",
    "init：{'k-means ++'，'random'or anarray}\n",
    "n_init #初始次数\n",
    "max_iter\n",
    "\n",
    "#方法\n",
    "cluster_centers_\n",
    "label_\n",
    "fit_predict（X [，y]）\t计算聚类中心并预测每个样本的聚类索引\n",
    "predict（X）\t预测X中每个样本最接近的聚类\n",
    "fit_transform（X [，y]）\t计算聚类并将X转换为聚类距离空间。\n",
    "\n",
    "\n",
    "from sklearn.cluster import MiniBatchKMeans\n",
    "batch_size=100"
   ]
  },
  {
   "cell_type": "code",
   "execution_count": null,
   "metadata": {
    "collapsed": true
   },
   "outputs": [],
   "source": [
    "#层次聚类\n",
    "from sklearn.cluster import AgglomerativeClustering\n",
    "\n",
    "#参数\n",
    "n_clusters\n",
    "affinity=’euclidean’# “euclidean”, “l1”“l2”“manhattan”“cosine”, or ‘precomputed’. If linkage is “ward”, only “euclidean” is accepted.\n",
    "link：{“ward”，“complete”，“average”}，可选，默认：“ward” #连接标准\n",
    "#{“ward”方差最小化“complete”两组的最大距离“average”距离均值\n",
    "\n",
    "#方法\n",
    "labels_\n",
    "n_leaves_ #叶子数\n",
    "n_components_ #连接组件数"
   ]
  },
  {
   "cell_type": "code",
   "execution_count": null,
   "metadata": {
    "collapsed": true
   },
   "outputs": [],
   "source": [
    "#密度聚类\n",
    "\n",
    "from sklearn.cluster import DBSCAN\n",
    "#核心样本的邻居\n",
    "#更高min_samples或更低eps 表示形成簇所需的较高密度\n",
    "EPS = 0.5 #被认为是相近的的样本最大距离\n",
    "min_samples = 5 #样本点被认为是核心点的最小邻近样本数\n",
    "metric=’euclidean’ #距离度量\n",
    "metric_params #度量函数的参数\n",
    "algorithm : {‘auto’, ‘ball_tree’, ‘kd_tree’, ‘brute’} #找近邻的算法\n",
    "    \n",
    "#参数\n",
    "core_sample_indices_ #核心样本指数\n",
    "components_ #核心样本\n",
    "fit_predict"
   ]
  },
  {
   "cell_type": "code",
   "execution_count": null,
   "metadata": {
    "collapsed": true
   },
   "outputs": [],
   "source": [
    "#聚类评价\n",
    "sklearn.metrics.silhouette_score\n",
    "metrics.silhouette_score(X, labels, metric='euclidean')\n",
    "\n",
    "sklearn.metrics.calinski_harabaz_score\n",
    "metrics.calinski_harabaz_score(X, labels) "
   ]
  }
 ],
 "metadata": {
  "kernelspec": {
   "display_name": "Python 3",
   "language": "python",
   "name": "python3"
  },
  "language_info": {
   "codemirror_mode": {
    "name": "ipython",
    "version": 3
   },
   "file_extension": ".py",
   "mimetype": "text/x-python",
   "name": "python",
   "nbconvert_exporter": "python",
   "pygments_lexer": "ipython3",
   "version": "3.5.2"
  }
 },
 "nbformat": 4,
 "nbformat_minor": 2
}
