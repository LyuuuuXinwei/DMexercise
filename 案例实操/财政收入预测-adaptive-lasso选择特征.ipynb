{
 "cells": [
  {
   "cell_type": "code",
   "execution_count": 1,
   "metadata": {
    "collapsed": true
   },
   "outputs": [],
   "source": [
    "import numpy as np\n",
    "import pandas as pd\n",
    "import os"
   ]
  },
  {
   "cell_type": "code",
   "execution_count": 35,
   "metadata": {},
   "outputs": [],
   "source": [
    "data_file=r'C:\\Python\\DM exercise\\dm\\chapter13\\demo\\data\\data1.csv'\n",
    "data=pd.read_csv(data_file)"
   ]
  },
  {
   "cell_type": "code",
   "execution_count": 51,
   "metadata": {
    "scrolled": true
   },
   "outputs": [
    {
     "data": {
      "text/plain": [
       "array([[-1.3847, -0.9795, -1.0018, -1.1833, -1.1779, -1.5777, -1.0015,\n",
       "        -1.0541, -1.3636, -1.0913,  3.0281, -1.5527, -1.0759],\n",
       "       [-1.3197, -0.924 , -0.9488, -1.0395, -1.0085, -1.4218, -0.9234,\n",
       "        -0.9929, -1.1094, -0.9729,  1.8492, -1.4658, -0.9672],\n",
       "       [-1.3077, -0.8821, -0.8777, -0.9546, -0.9486, -1.2715, -0.906 ,\n",
       "        -0.9463, -0.9569, -1.0297,  0.8879, -1.4145, -0.9241],\n",
       "       [-1.0279, -0.8452, -0.8171, -0.9017, -0.8662, -1.1035, -0.8911,\n",
       "        -0.8994, -0.8666, -0.9878, -0.2004, -1.3039, -0.8623],\n",
       "       [-0.8918, -0.809 , -0.764 , -0.8222, -0.7864, -0.9803, -0.8048,\n",
       "        -0.8513, -0.8041, -0.8968, -1.0166, -0.8774, -0.8324],\n",
       "       [-0.8166, -0.7663, -0.7139, -0.7474, -0.7463, -0.8055, -0.7039,\n",
       "        -0.7964, -0.7255, -0.745 , -0.8715, -0.8853, -0.7854],\n",
       "       [-0.4888, -0.6999, -0.6512, -0.5565, -0.5514, -0.553 , -0.6656,\n",
       "        -0.7175, -0.6954, -0.6741, -0.0916, -0.293 , -0.6938],\n",
       "       [-0.4359, -0.6332, -0.5849, -0.4852, -0.537 , -0.3614, -0.6196,\n",
       "        -0.6395, -0.6378, -0.4996, -0.799 ,  0.1769, -0.6122],\n",
       "       [-0.4035, -0.523 , -0.5211, -0.614 , -0.6341, -0.2322, -0.5934,\n",
       "        -0.5586, -0.5231, -0.5487, -1.0348,  0.5442, -0.5225],\n",
       "       [-0.2922, -0.3886, -0.4567, -0.455 , -0.5244, -0.1587, -0.4533,\n",
       "        -0.4348, -0.3877, -0.4679, -0.5813,  0.1335, -0.4423],\n",
       "       [-0.1366, -0.2798, -0.3611, -0.2706, -0.3354,  0.0422, -0.3067,\n",
       "        -0.2803, -0.2444, -0.3625, -0.2911,  0.0071, -0.279 ],\n",
       "       [ 0.1307, -0.1674, -0.2423, -0.133 , -0.1711,  0.2492, -0.163 ,\n",
       "        -0.1232,  0.0144, -0.1463, -0.3274,  0.1335, -0.0792],\n",
       "       [ 0.3292, -0.0438, -0.0895,  0.0202, -0.052 ,  0.4131, -0.0134,\n",
       "         0.084 , -0.0195,  0.0667, -0.1823,  0.0624,  0.0547],\n",
       "       [ 0.5204,  0.1881,  0.132 ,  0.2768,  0.3757,  0.6185,  0.1275,\n",
       "         0.3203,  0.4034,  0.3543,  0.0172,  0.2046,  0.2506],\n",
       "       [ 0.7523,  0.4035,  0.4255,  0.5559,  0.6055,  0.7905,  0.332 ,\n",
       "         0.5765,  0.7859,  0.6703,  0.4707,  0.3665,  0.4357],\n",
       "       [ 0.9602,  0.5926,  0.6487,  0.7806,  0.8476,  0.9586,  0.7999,\n",
       "         0.7664,  0.8471,  0.8646, -1.0529,  0.8324,  0.6226],\n",
       "       [ 1.2131,  0.9056,  1.0971,  1.0795,  1.1147,  1.1441,  1.3095,\n",
       "         1.126 ,  1.1696,  1.2872, -0.019 ,  0.8522,  1.105 ],\n",
       "       [ 1.4675,  1.571 ,  1.4966,  1.4499,  1.5048,  1.2799,  1.4349,\n",
       "         1.5   ,  1.4858,  1.4725,  0.3981,  0.9785,  1.5249],\n",
       "       [ 1.5318,  2.022 ,  1.8792,  1.8043,  1.7829,  1.4041,  1.7271,\n",
       "         1.7518,  1.6683,  1.6705, -0.0553,  1.5906,  1.8597],\n",
       "       [ 1.6002,  2.2591,  2.351 ,  2.1959,  2.1081,  1.5653,  2.3147,\n",
       "         2.1692,  1.9594,  2.0365, -0.1279,  1.9105,  2.2232]])"
      ]
     },
     "execution_count": 51,
     "metadata": {},
     "output_type": "execute_result"
    }
   ],
   "source": [
    "x=data.iloc[:,:13]\n",
    "y=data.iloc[:,13]\n",
    "x=round((x-x.mean())/x.std(),4).as_matrix()\n",
    "y=round((y-y.mean())/y.std(),4).as_matrix()\n",
    "x"
   ]
  },
  {
   "cell_type": "code",
   "execution_count": 55,
   "metadata": {},
   "outputs": [
    {
     "data": {
      "text/plain": [
       "[-0.0,\n",
       " 0.0,\n",
       " 0.16582396089638865,\n",
       " 0.0,\n",
       " 0.20392340258278352,\n",
       " -0.01239045306680887,\n",
       " 0.63695268461068966,\n",
       " 0.0,\n",
       " 0.0,\n",
       " 0.0,\n",
       " 0.027387066958049586,\n",
       " -0.0,\n",
       " 0.0]"
      ]
     },
     "execution_count": 55,
     "metadata": {},
     "output_type": "execute_result"
    }
   ],
   "source": [
    "from sklearn.linear_model import Lasso\n",
    "lasso=Lasso(alpha=0.005)\n",
    "lasso.fit(x,y)\n",
    "list(lasso.coef_)"
   ]
  },
  {
   "cell_type": "code",
   "execution_count": 53,
   "metadata": {},
   "outputs": [
    {
     "data": {
      "text/plain": [
       "[0.048109785367370948,\n",
       " 0.092173797048421074,\n",
       " 0.10531878402093096,\n",
       " 0.089850786398453952,\n",
       " 0.094197965070720202,\n",
       " 0.032280411634144843,\n",
       " 0.10777567052224642,\n",
       " 0.090436545735149976,\n",
       " 0.077977317161816717,\n",
       " 0.090697856654270659,\n",
       " 0.038946043917774745,\n",
       " 0.037726210464970676,\n",
       " 0.091075673153244857]"
      ]
     },
     "execution_count": 53,
     "metadata": {},
     "output_type": "execute_result"
    }
   ],
   "source": [
    "from sklearn.linear_model import Ridge  \n",
    "ridge = Ridge(alpha=10)  \n",
    "ridge.fit(x,y)\n",
    "list(ridge.coef_)"
   ]
  },
  {
   "cell_type": "code",
   "execution_count": 56,
   "metadata": {},
   "outputs": [
    {
     "name": "stderr",
     "output_type": "stream",
     "text": [
      "c:\\users\\yechao\\appdata\\local\\programs\\python\\python35\\lib\\site-packages\\sklearn\\utils\\deprecation.py:57: DeprecationWarning: Class RandomizedLasso is deprecated; The class RandomizedLasso is deprecated in 0.19 and will be removed in 0.21.\n",
      "  warnings.warn(msg, category=DeprecationWarning)\n"
     ]
    },
    {
     "data": {
      "text/plain": [
       "array([ 0.07 ,  0.095,  0.435,  0.125,  0.44 ,  0.535,  0.775,  0.11 ,\n",
       "        0.05 ,  0.34 ,  0.83 ,  0.145,  0.09 ])"
      ]
     },
     "execution_count": 56,
     "metadata": {},
     "output_type": "execute_result"
    }
   ],
   "source": [
    "from sklearn.linear_model import RandomizedLasso  \n",
    "rlasso = RandomizedLasso(alpha=0.001)  \n",
    "rlasso.fit(x,y)\n",
    "rlasso.scores_"
   ]
  },
  {
   "cell_type": "code",
   "execution_count": 65,
   "metadata": {},
   "outputs": [
    {
     "data": {
      "text/plain": [
       "[0.89980055025100769, 0.082571068414002219]"
      ]
     },
     "execution_count": 65,
     "metadata": {},
     "output_type": "execute_result"
    }
   ],
   "source": [
    "from sklearn.decomposition import PCA\n",
    "pca=PCA(n_components=2)\n",
    "xd=pca.fit_transform(x)\n",
    "list(pca.explained_variance_ratio_)"
   ]
  }
 ],
 "metadata": {
  "kernelspec": {
   "display_name": "Python 3",
   "language": "python",
   "name": "python3"
  },
  "language_info": {
   "codemirror_mode": {
    "name": "ipython",
    "version": 3
   },
   "file_extension": ".py",
   "mimetype": "text/x-python",
   "name": "python",
   "nbconvert_exporter": "python",
   "pygments_lexer": "ipython3",
   "version": "3.5.2"
  }
 },
 "nbformat": 4,
 "nbformat_minor": 2
}
